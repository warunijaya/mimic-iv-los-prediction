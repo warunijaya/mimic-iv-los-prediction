{
 "cells": [
  {
   "cell_type": "code",
   "execution_count": 1,
   "id": "50a018c8-9bc5-49cd-9e0c-d0f34297ac1d",
   "metadata": {
    "tags": []
   },
   "outputs": [],
   "source": [
    "import os\n",
    "import pandas as pd\n",
    "import numpy as np\n",
    "import matplotlib.pyplot as plt\n",
    "import seaborn as sns\n",
    "from sklearn.model_selection import train_test_split\n",
    "from sklearn.linear_model import LinearRegression\n",
    "from sklearn.ensemble import RandomForestRegressor\n",
    "from lightgbm import LGBMRegressor\n",
    "import torch\n",
    "import torch.nn as nn\n",
    "import torch.optim as optim\n",
    "from sklearn.metrics import mean_squared_error\n"
   ]
  },
  {
   "cell_type": "code",
   "execution_count": 2,
   "id": "93a3834c-b92c-4d2c-bd41-885fdac95b16",
   "metadata": {
    "tags": []
   },
   "outputs": [],
   "source": [
    "# Set file paths\n",
    "data_path = '../data/'\n",
    "admissions_file = os.path.join(data_path, 'hosp/admissions.csv.gz')\n",
    "patients_file = os.path.join(data_path, 'hosp/patients.csv.gz')\n",
    "transfers_file = os.path.join(data_path, 'hosp/transfers.csv.gz')\n",
    "labs_file = os.path.join(data_path, 'hosp/labevents.csv.gz')\n",
    "procedures_file = os.path.join(data_path, 'hosp/procedures_icd.csv.gz')\n",
    "prescriptions_file = os.path.join(data_path, 'hosp/prescriptions.csv.gz')"
   ]
  },
  {
   "cell_type": "code",
   "execution_count": 3,
   "id": "12b414f0-9fcc-4e53-81c4-6e971d503059",
   "metadata": {
    "tags": []
   },
   "outputs": [],
   "source": [
    "# Load datasets\n",
    "admissions = pd.read_csv(admissions_file, compression='gzip')\n",
    "patients = pd.read_csv(patients_file, compression='gzip')\n",
    "transfers = pd.read_csv(transfers_file, compression='gzip')\n",
    "#labs = pd.read_csv(labs_file, compression='gzip')\n",
    "procedures = pd.read_csv(procedures_file, compression='gzip')\n",
    "#prescriptions = pd.read_csv(prescriptions_file, compression='gzip')"
   ]
  },
  {
   "cell_type": "code",
   "execution_count": 4,
   "id": "b258e238-e38f-4891-b025-a710a966d74c",
   "metadata": {
    "tags": []
   },
   "outputs": [
    {
     "name": "stdout",
     "output_type": "stream",
     "text": [
      "<class 'pandas.core.frame.DataFrame'>\n",
      "RangeIndex: 546028 entries, 0 to 546027\n",
      "Data columns (total 16 columns):\n",
      " #   Column                Non-Null Count   Dtype \n",
      "---  ------                --------------   ----- \n",
      " 0   subject_id            546028 non-null  int64 \n",
      " 1   hadm_id               546028 non-null  int64 \n",
      " 2   admittime             546028 non-null  object\n",
      " 3   dischtime             546028 non-null  object\n",
      " 4   deathtime             11790 non-null   object\n",
      " 5   admission_type        546028 non-null  object\n",
      " 6   admit_provider_id     546024 non-null  object\n",
      " 7   admission_location    546027 non-null  object\n",
      " 8   discharge_location    396210 non-null  object\n",
      " 9   insurance             536673 non-null  object\n",
      " 10  language              545253 non-null  object\n",
      " 11  marital_status        532409 non-null  object\n",
      " 12  race                  546028 non-null  object\n",
      " 13  edregtime             379240 non-null  object\n",
      " 14  edouttime             379240 non-null  object\n",
      " 15  hospital_expire_flag  546028 non-null  int64 \n",
      "dtypes: int64(3), object(13)\n",
      "memory usage: 66.7+ MB\n"
     ]
    }
   ],
   "source": [
    "admissions.info()"
   ]
  },
  {
   "cell_type": "code",
   "execution_count": 5,
   "id": "c7e4d095-3470-408e-9113-85fe60d4cd2d",
   "metadata": {
    "tags": []
   },
   "outputs": [
    {
     "name": "stdout",
     "output_type": "stream",
     "text": [
      "<class 'pandas.core.frame.DataFrame'>\n",
      "RangeIndex: 364627 entries, 0 to 364626\n",
      "Data columns (total 6 columns):\n",
      " #   Column             Non-Null Count   Dtype \n",
      "---  ------             --------------   ----- \n",
      " 0   subject_id         364627 non-null  int64 \n",
      " 1   gender             364627 non-null  object\n",
      " 2   anchor_age         364627 non-null  int64 \n",
      " 3   anchor_year        364627 non-null  int64 \n",
      " 4   anchor_year_group  364627 non-null  object\n",
      " 5   dod                38301 non-null   object\n",
      "dtypes: int64(3), object(3)\n",
      "memory usage: 16.7+ MB\n"
     ]
    }
   ],
   "source": [
    "patients.info()"
   ]
  },
  {
   "cell_type": "code",
   "execution_count": 6,
   "id": "5e8748e4-adb0-4d10-bccd-10648e1263c7",
   "metadata": {
    "tags": []
   },
   "outputs": [],
   "source": [
    "# Merge datasets\n",
    "merged_data = pd.merge(admissions, patients, on='subject_id', how='inner')\n"
   ]
  },
  {
   "cell_type": "code",
   "execution_count": 7,
   "id": "9939a295-885d-4cff-b308-47ccc60e0ada",
   "metadata": {
    "tags": []
   },
   "outputs": [
    {
     "data": {
      "text/plain": [
       "Index(['subject_id', 'hadm_id', 'admittime', 'dischtime', 'deathtime',\n",
       "       'admission_type', 'admit_provider_id', 'admission_location',\n",
       "       'discharge_location', 'insurance', 'language', 'marital_status', 'race',\n",
       "       'edregtime', 'edouttime', 'hospital_expire_flag', 'gender',\n",
       "       'anchor_age', 'anchor_year', 'anchor_year_group', 'dod'],\n",
       "      dtype='object')"
      ]
     },
     "execution_count": 7,
     "metadata": {},
     "output_type": "execute_result"
    }
   ],
   "source": [
    "merged_data.columns"
   ]
  },
  {
   "cell_type": "markdown",
   "id": "cd31af6b-f59c-4995-a929-469548bd86d2",
   "metadata": {
    "tags": []
   },
   "source": [
    "## Preprocessing"
   ]
  },
  {
   "cell_type": "code",
   "execution_count": 8,
   "id": "7fd399d1-920f-4bdd-99f3-09f5f3c178f3",
   "metadata": {
    "tags": []
   },
   "outputs": [
    {
     "data": {
      "text/plain": [
       "race\n",
       "WHITE                                        336538\n",
       "BLACK/AFRICAN AMERICAN                        75482\n",
       "OTHER                                         19788\n",
       "WHITE - OTHER EUROPEAN                        13972\n",
       "UNKNOWN                                       13870\n",
       "HISPANIC/LATINO - PUERTO RICAN                10903\n",
       "HISPANIC OR LATINO                             8287\n",
       "ASIAN                                          7809\n",
       "ASIAN - CHINESE                                7644\n",
       "WHITE - RUSSIAN                                6597\n",
       "BLACK/CAPE VERDEAN                             6205\n",
       "HISPANIC/LATINO - DOMINICAN                    6070\n",
       "BLACK/CARIBBEAN ISLAND                         3875\n",
       "BLACK/AFRICAN                                  3495\n",
       "UNABLE TO OBTAIN                               3478\n",
       "PATIENT DECLINED TO ANSWER                     2162\n",
       "PORTUGUESE                                     2082\n",
       "ASIAN - SOUTH EAST ASIAN                       1973\n",
       "WHITE - EASTERN EUROPEAN                       1886\n",
       "HISPANIC/LATINO - GUATEMALAN                   1858\n",
       "ASIAN - ASIAN INDIAN                           1661\n",
       "WHITE - BRAZILIAN                              1526\n",
       "HISPANIC/LATINO - SALVADORAN                   1320\n",
       "AMERICAN INDIAN/ALASKA NATIVE                  1247\n",
       "HISPANIC/LATINO - COLUMBIAN                     920\n",
       "HISPANIC/LATINO - MEXICAN                       883\n",
       "SOUTH AMERICAN                                  774\n",
       "HISPANIC/LATINO - HONDURAN                      725\n",
       "ASIAN - KOREAN                                  664\n",
       "HISPANIC/LATINO - CUBAN                         641\n",
       "HISPANIC/LATINO - CENTRAL AMERICAN              603\n",
       "MULTIPLE RACE/ETHNICITY                         596\n",
       "NATIVE HAWAIIAN OR OTHER PACIFIC ISLANDER       494\n",
       "Name: count, dtype: int64"
      ]
     },
     "execution_count": 8,
     "metadata": {},
     "output_type": "execute_result"
    }
   ],
   "source": [
    "admissions.race.value_counts()"
   ]
  },
  {
   "cell_type": "code",
   "execution_count": 9,
   "id": "3530dc3b-1bc1-42bc-bc1c-b733620fffe0",
   "metadata": {
    "tags": []
   },
   "outputs": [],
   "source": [
    "category_mapping = {\n",
    "    # WHITE categories\n",
    "    'WHITE': 'WHITE',\n",
    "    'WHITE - OTHER EUROPEAN': 'WHITE',\n",
    "    'WHITE - RUSSIAN': 'WHITE',\n",
    "    'WHITE - EASTERN EUROPEAN': 'WHITE',\n",
    "    'WHITE - BRAZILIAN': 'WHITE',\n",
    "    \n",
    "    # BLACK/AFRICAN categories\n",
    "    'BLACK/AFRICAN AMERICAN': 'BLACK/AFRICAN',\n",
    "    'BLACK/CAPE VERDEAN': 'BLACK/AFRICAN',\n",
    "    'BLACK/CARIBBEAN ISLAND': 'BLACK/AFRICAN',\n",
    "    'BLACK/AFRICAN': 'BLACK/AFRICAN',\n",
    "    \n",
    "    # HISPANIC categories\n",
    "    'HISPANIC OR LATINO': 'HISPANIC',\n",
    "    'HISPANIC/LATINO - PUERTO RICAN': 'HISPANIC',\n",
    "    'HISPANIC/LATINO - DOMINICAN': 'HISPANIC',\n",
    "    'HISPANIC/LATINO - GUATEMALAN': 'HISPANIC',\n",
    "    'HISPANIC/LATINO - ASIAN INDIAN': 'HISPANIC',\n",
    "    'HISPANIC/LATINO - SALVADORAN': 'HISPANIC',\n",
    "    'HISPANIC/LATINO - COLUMBIAN': 'HISPANIC',\n",
    "    'HISPANIC/LATINO - MEXICAN': 'HISPANIC',\n",
    "    'HISPANIC/LATINO - HONDURAN': 'HISPANIC',\n",
    "    'HISPANIC/LATINO - CUBAN': 'HISPANIC',\n",
    "    'HISPANIC/LATINO - CENTRAL AMERICAN': 'HISPANIC',\n",
    "    \n",
    "    # ASIAN categories\n",
    "    'ASIAN': 'ASIAN',\n",
    "    'ASIAN - CHINESE': 'ASIAN',\n",
    "    'ASIAN - SOUTH EAST ASIAN': 'ASIAN',\n",
    "    'ASIAN - ASIAN INDIAN': 'ASIAN',\n",
    "    'ASIAN - KOREAN': 'ASIAN',\n",
    "    \n",
    "    # OTHER categories (updated and explicitly included)\n",
    "    'AMERICAN INDIAN/ALASKA NATIVE': 'OTHER',\n",
    "    'SOUTH AMERICAN': 'OTHER',\n",
    "    'NATIVE HAWAIIAN OR OTHER PACIFIC ISLANDER': 'OTHER',\n",
    "    'PORTUGUESE': 'OTHER',\n",
    "    'MULTIPLE RACE/ETHNICITY': 'OTHER',\n",
    "    'UNKNOWN': 'OTHER',\n",
    "    'UNABLE TO OBTAIN': 'OTHER',\n",
    "    'PATIENT DECLINED TO ANSWER': 'OTHER'\n",
    "}"
   ]
  },
  {
   "cell_type": "code",
   "execution_count": 10,
   "id": "3d1e4b75-8de0-4f89-a5d1-f52eda9c8aae",
   "metadata": {
    "tags": []
   },
   "outputs": [],
   "source": [
    "admissions['race_grouped'] = admissions['race'].map(category_mapping)"
   ]
  },
  {
   "cell_type": "code",
   "execution_count": 11,
   "id": "4f67c262-d4cc-4b5f-a1fc-1400ac2949fe",
   "metadata": {
    "tags": []
   },
   "outputs": [
    {
     "data": {
      "text/plain": [
       "race_grouped\n",
       "WHITE            360519\n",
       "BLACK/AFRICAN     89057\n",
       "HISPANIC          32210\n",
       "OTHER             24703\n",
       "ASIAN             19751\n",
       "Name: count, dtype: int64"
      ]
     },
     "execution_count": 11,
     "metadata": {},
     "output_type": "execute_result"
    }
   ],
   "source": [
    "admissions.race_grouped.value_counts()"
   ]
  },
  {
   "cell_type": "code",
   "execution_count": 12,
   "id": "bde81af3-1ec8-44f3-9e38-b04ae5726b92",
   "metadata": {
    "tags": []
   },
   "outputs": [],
   "source": [
    "# merged admissoions and patients data sets \n",
    "merged_data = pd.merge(admissions, patients, on='subject_id', how='inner')"
   ]
  },
  {
   "cell_type": "code",
   "execution_count": 13,
   "id": "9aba104b-b4bd-4e33-a94b-e502ffccfafd",
   "metadata": {
    "tags": []
   },
   "outputs": [
    {
     "data": {
      "text/html": [
       "<div>\n",
       "<style scoped>\n",
       "    .dataframe tbody tr th:only-of-type {\n",
       "        vertical-align: middle;\n",
       "    }\n",
       "\n",
       "    .dataframe tbody tr th {\n",
       "        vertical-align: top;\n",
       "    }\n",
       "\n",
       "    .dataframe thead th {\n",
       "        text-align: right;\n",
       "    }\n",
       "</style>\n",
       "<table border=\"1\" class=\"dataframe\">\n",
       "  <thead>\n",
       "    <tr style=\"text-align: right;\">\n",
       "      <th></th>\n",
       "      <th>subject_id</th>\n",
       "      <th>hadm_id</th>\n",
       "      <th>admittime</th>\n",
       "      <th>dischtime</th>\n",
       "      <th>deathtime</th>\n",
       "      <th>admission_type</th>\n",
       "      <th>admit_provider_id</th>\n",
       "      <th>admission_location</th>\n",
       "      <th>discharge_location</th>\n",
       "      <th>insurance</th>\n",
       "      <th>...</th>\n",
       "      <th>race</th>\n",
       "      <th>edregtime</th>\n",
       "      <th>edouttime</th>\n",
       "      <th>hospital_expire_flag</th>\n",
       "      <th>race_grouped</th>\n",
       "      <th>gender</th>\n",
       "      <th>anchor_age</th>\n",
       "      <th>anchor_year</th>\n",
       "      <th>anchor_year_group</th>\n",
       "      <th>dod</th>\n",
       "    </tr>\n",
       "  </thead>\n",
       "  <tbody>\n",
       "    <tr>\n",
       "      <th>0</th>\n",
       "      <td>10000032</td>\n",
       "      <td>22595853</td>\n",
       "      <td>2180-05-06 22:23:00</td>\n",
       "      <td>2180-05-07 17:15:00</td>\n",
       "      <td>NaN</td>\n",
       "      <td>URGENT</td>\n",
       "      <td>P49AFC</td>\n",
       "      <td>TRANSFER FROM HOSPITAL</td>\n",
       "      <td>HOME</td>\n",
       "      <td>Medicaid</td>\n",
       "      <td>...</td>\n",
       "      <td>WHITE</td>\n",
       "      <td>2180-05-06 19:17:00</td>\n",
       "      <td>2180-05-06 23:30:00</td>\n",
       "      <td>0</td>\n",
       "      <td>WHITE</td>\n",
       "      <td>F</td>\n",
       "      <td>52</td>\n",
       "      <td>2180</td>\n",
       "      <td>2014 - 2016</td>\n",
       "      <td>2180-09-09</td>\n",
       "    </tr>\n",
       "    <tr>\n",
       "      <th>1</th>\n",
       "      <td>10000032</td>\n",
       "      <td>22841357</td>\n",
       "      <td>2180-06-26 18:27:00</td>\n",
       "      <td>2180-06-27 18:49:00</td>\n",
       "      <td>NaN</td>\n",
       "      <td>EW EMER.</td>\n",
       "      <td>P784FA</td>\n",
       "      <td>EMERGENCY ROOM</td>\n",
       "      <td>HOME</td>\n",
       "      <td>Medicaid</td>\n",
       "      <td>...</td>\n",
       "      <td>WHITE</td>\n",
       "      <td>2180-06-26 15:54:00</td>\n",
       "      <td>2180-06-26 21:31:00</td>\n",
       "      <td>0</td>\n",
       "      <td>WHITE</td>\n",
       "      <td>F</td>\n",
       "      <td>52</td>\n",
       "      <td>2180</td>\n",
       "      <td>2014 - 2016</td>\n",
       "      <td>2180-09-09</td>\n",
       "    </tr>\n",
       "    <tr>\n",
       "      <th>2</th>\n",
       "      <td>10000032</td>\n",
       "      <td>25742920</td>\n",
       "      <td>2180-08-05 23:44:00</td>\n",
       "      <td>2180-08-07 17:50:00</td>\n",
       "      <td>NaN</td>\n",
       "      <td>EW EMER.</td>\n",
       "      <td>P19UTS</td>\n",
       "      <td>EMERGENCY ROOM</td>\n",
       "      <td>HOSPICE</td>\n",
       "      <td>Medicaid</td>\n",
       "      <td>...</td>\n",
       "      <td>WHITE</td>\n",
       "      <td>2180-08-05 20:58:00</td>\n",
       "      <td>2180-08-06 01:44:00</td>\n",
       "      <td>0</td>\n",
       "      <td>WHITE</td>\n",
       "      <td>F</td>\n",
       "      <td>52</td>\n",
       "      <td>2180</td>\n",
       "      <td>2014 - 2016</td>\n",
       "      <td>2180-09-09</td>\n",
       "    </tr>\n",
       "    <tr>\n",
       "      <th>3</th>\n",
       "      <td>10000032</td>\n",
       "      <td>29079034</td>\n",
       "      <td>2180-07-23 12:35:00</td>\n",
       "      <td>2180-07-25 17:55:00</td>\n",
       "      <td>NaN</td>\n",
       "      <td>EW EMER.</td>\n",
       "      <td>P06OTX</td>\n",
       "      <td>EMERGENCY ROOM</td>\n",
       "      <td>HOME</td>\n",
       "      <td>Medicaid</td>\n",
       "      <td>...</td>\n",
       "      <td>WHITE</td>\n",
       "      <td>2180-07-23 05:54:00</td>\n",
       "      <td>2180-07-23 14:00:00</td>\n",
       "      <td>0</td>\n",
       "      <td>WHITE</td>\n",
       "      <td>F</td>\n",
       "      <td>52</td>\n",
       "      <td>2180</td>\n",
       "      <td>2014 - 2016</td>\n",
       "      <td>2180-09-09</td>\n",
       "    </tr>\n",
       "    <tr>\n",
       "      <th>4</th>\n",
       "      <td>10000068</td>\n",
       "      <td>25022803</td>\n",
       "      <td>2160-03-03 23:16:00</td>\n",
       "      <td>2160-03-04 06:26:00</td>\n",
       "      <td>NaN</td>\n",
       "      <td>EU OBSERVATION</td>\n",
       "      <td>P39NWO</td>\n",
       "      <td>EMERGENCY ROOM</td>\n",
       "      <td>NaN</td>\n",
       "      <td>NaN</td>\n",
       "      <td>...</td>\n",
       "      <td>WHITE</td>\n",
       "      <td>2160-03-03 21:55:00</td>\n",
       "      <td>2160-03-04 06:26:00</td>\n",
       "      <td>0</td>\n",
       "      <td>WHITE</td>\n",
       "      <td>F</td>\n",
       "      <td>19</td>\n",
       "      <td>2160</td>\n",
       "      <td>2008 - 2010</td>\n",
       "      <td>NaN</td>\n",
       "    </tr>\n",
       "  </tbody>\n",
       "</table>\n",
       "<p>5 rows × 22 columns</p>\n",
       "</div>"
      ],
      "text/plain": [
       "   subject_id   hadm_id            admittime            dischtime deathtime  \\\n",
       "0    10000032  22595853  2180-05-06 22:23:00  2180-05-07 17:15:00       NaN   \n",
       "1    10000032  22841357  2180-06-26 18:27:00  2180-06-27 18:49:00       NaN   \n",
       "2    10000032  25742920  2180-08-05 23:44:00  2180-08-07 17:50:00       NaN   \n",
       "3    10000032  29079034  2180-07-23 12:35:00  2180-07-25 17:55:00       NaN   \n",
       "4    10000068  25022803  2160-03-03 23:16:00  2160-03-04 06:26:00       NaN   \n",
       "\n",
       "   admission_type admit_provider_id      admission_location  \\\n",
       "0          URGENT            P49AFC  TRANSFER FROM HOSPITAL   \n",
       "1        EW EMER.            P784FA          EMERGENCY ROOM   \n",
       "2        EW EMER.            P19UTS          EMERGENCY ROOM   \n",
       "3        EW EMER.            P06OTX          EMERGENCY ROOM   \n",
       "4  EU OBSERVATION            P39NWO          EMERGENCY ROOM   \n",
       "\n",
       "  discharge_location insurance  ...   race            edregtime  \\\n",
       "0               HOME  Medicaid  ...  WHITE  2180-05-06 19:17:00   \n",
       "1               HOME  Medicaid  ...  WHITE  2180-06-26 15:54:00   \n",
       "2            HOSPICE  Medicaid  ...  WHITE  2180-08-05 20:58:00   \n",
       "3               HOME  Medicaid  ...  WHITE  2180-07-23 05:54:00   \n",
       "4                NaN       NaN  ...  WHITE  2160-03-03 21:55:00   \n",
       "\n",
       "             edouttime hospital_expire_flag race_grouped  gender anchor_age  \\\n",
       "0  2180-05-06 23:30:00                    0        WHITE       F         52   \n",
       "1  2180-06-26 21:31:00                    0        WHITE       F         52   \n",
       "2  2180-08-06 01:44:00                    0        WHITE       F         52   \n",
       "3  2180-07-23 14:00:00                    0        WHITE       F         52   \n",
       "4  2160-03-04 06:26:00                    0        WHITE       F         19   \n",
       "\n",
       "  anchor_year  anchor_year_group         dod  \n",
       "0        2180        2014 - 2016  2180-09-09  \n",
       "1        2180        2014 - 2016  2180-09-09  \n",
       "2        2180        2014 - 2016  2180-09-09  \n",
       "3        2180        2014 - 2016  2180-09-09  \n",
       "4        2160        2008 - 2010         NaN  \n",
       "\n",
       "[5 rows x 22 columns]"
      ]
     },
     "execution_count": 13,
     "metadata": {},
     "output_type": "execute_result"
    }
   ],
   "source": [
    "merged_data.head()"
   ]
  },
  {
   "cell_type": "code",
   "execution_count": 14,
   "id": "b6e1e6eb-4499-4eaa-9fce-767e8e6c856a",
   "metadata": {
    "tags": []
   },
   "outputs": [],
   "source": [
    "# Feature engineering\n",
    "merged_data['admittime'] = pd.to_datetime(merged_data['admittime'])\n",
    "merged_data['dischtime'] = pd.to_datetime(merged_data['dischtime'])\n",
    "merged_data['time_in_hospital'] = (merged_data['dischtime'] - merged_data['admittime']).dt.total_seconds() / 3600\n",
    "merged_data = merged_data[merged_data['time_in_hospital'] >= 3]  # Exclude admissions less than 3 hours\n",
    "merged_data['gender'] = merged_data['gender'].map({'M': 0, 'F': 1})\n",
    "merged_data = pd.get_dummies(merged_data, columns=['race_grouped','gender', 'admission_type','insurance', 'admission_location'], drop_first=True)"
   ]
  },
  {
   "cell_type": "code",
   "execution_count": 15,
   "id": "2652922d-f53e-45dc-927c-9a6da8ec8255",
   "metadata": {
    "tags": []
   },
   "outputs": [
    {
     "data": {
      "text/html": [
       "<div>\n",
       "<style scoped>\n",
       "    .dataframe tbody tr th:only-of-type {\n",
       "        vertical-align: middle;\n",
       "    }\n",
       "\n",
       "    .dataframe tbody tr th {\n",
       "        vertical-align: top;\n",
       "    }\n",
       "\n",
       "    .dataframe thead th {\n",
       "        text-align: right;\n",
       "    }\n",
       "</style>\n",
       "<table border=\"1\" class=\"dataframe\">\n",
       "  <thead>\n",
       "    <tr style=\"text-align: right;\">\n",
       "      <th></th>\n",
       "      <th>subject_id</th>\n",
       "      <th>hadm_id</th>\n",
       "      <th>admittime</th>\n",
       "      <th>dischtime</th>\n",
       "      <th>deathtime</th>\n",
       "      <th>admit_provider_id</th>\n",
       "      <th>discharge_location</th>\n",
       "      <th>language</th>\n",
       "      <th>marital_status</th>\n",
       "      <th>race</th>\n",
       "      <th>...</th>\n",
       "      <th>admission_location_CLINIC REFERRAL</th>\n",
       "      <th>admission_location_EMERGENCY ROOM</th>\n",
       "      <th>admission_location_INFORMATION NOT AVAILABLE</th>\n",
       "      <th>admission_location_INTERNAL TRANSFER TO OR FROM PSYCH</th>\n",
       "      <th>admission_location_PACU</th>\n",
       "      <th>admission_location_PHYSICIAN REFERRAL</th>\n",
       "      <th>admission_location_PROCEDURE SITE</th>\n",
       "      <th>admission_location_TRANSFER FROM HOSPITAL</th>\n",
       "      <th>admission_location_TRANSFER FROM SKILLED NURSING FACILITY</th>\n",
       "      <th>admission_location_WALK-IN/SELF REFERRAL</th>\n",
       "    </tr>\n",
       "  </thead>\n",
       "  <tbody>\n",
       "    <tr>\n",
       "      <th>0</th>\n",
       "      <td>10000032</td>\n",
       "      <td>22595853</td>\n",
       "      <td>2180-05-06 22:23:00</td>\n",
       "      <td>2180-05-07 17:15:00</td>\n",
       "      <td>NaN</td>\n",
       "      <td>P49AFC</td>\n",
       "      <td>HOME</td>\n",
       "      <td>English</td>\n",
       "      <td>WIDOWED</td>\n",
       "      <td>WHITE</td>\n",
       "      <td>...</td>\n",
       "      <td>False</td>\n",
       "      <td>False</td>\n",
       "      <td>False</td>\n",
       "      <td>False</td>\n",
       "      <td>False</td>\n",
       "      <td>False</td>\n",
       "      <td>False</td>\n",
       "      <td>True</td>\n",
       "      <td>False</td>\n",
       "      <td>False</td>\n",
       "    </tr>\n",
       "    <tr>\n",
       "      <th>1</th>\n",
       "      <td>10000032</td>\n",
       "      <td>22841357</td>\n",
       "      <td>2180-06-26 18:27:00</td>\n",
       "      <td>2180-06-27 18:49:00</td>\n",
       "      <td>NaN</td>\n",
       "      <td>P784FA</td>\n",
       "      <td>HOME</td>\n",
       "      <td>English</td>\n",
       "      <td>WIDOWED</td>\n",
       "      <td>WHITE</td>\n",
       "      <td>...</td>\n",
       "      <td>False</td>\n",
       "      <td>True</td>\n",
       "      <td>False</td>\n",
       "      <td>False</td>\n",
       "      <td>False</td>\n",
       "      <td>False</td>\n",
       "      <td>False</td>\n",
       "      <td>False</td>\n",
       "      <td>False</td>\n",
       "      <td>False</td>\n",
       "    </tr>\n",
       "    <tr>\n",
       "      <th>2</th>\n",
       "      <td>10000032</td>\n",
       "      <td>25742920</td>\n",
       "      <td>2180-08-05 23:44:00</td>\n",
       "      <td>2180-08-07 17:50:00</td>\n",
       "      <td>NaN</td>\n",
       "      <td>P19UTS</td>\n",
       "      <td>HOSPICE</td>\n",
       "      <td>English</td>\n",
       "      <td>WIDOWED</td>\n",
       "      <td>WHITE</td>\n",
       "      <td>...</td>\n",
       "      <td>False</td>\n",
       "      <td>True</td>\n",
       "      <td>False</td>\n",
       "      <td>False</td>\n",
       "      <td>False</td>\n",
       "      <td>False</td>\n",
       "      <td>False</td>\n",
       "      <td>False</td>\n",
       "      <td>False</td>\n",
       "      <td>False</td>\n",
       "    </tr>\n",
       "    <tr>\n",
       "      <th>3</th>\n",
       "      <td>10000032</td>\n",
       "      <td>29079034</td>\n",
       "      <td>2180-07-23 12:35:00</td>\n",
       "      <td>2180-07-25 17:55:00</td>\n",
       "      <td>NaN</td>\n",
       "      <td>P06OTX</td>\n",
       "      <td>HOME</td>\n",
       "      <td>English</td>\n",
       "      <td>WIDOWED</td>\n",
       "      <td>WHITE</td>\n",
       "      <td>...</td>\n",
       "      <td>False</td>\n",
       "      <td>True</td>\n",
       "      <td>False</td>\n",
       "      <td>False</td>\n",
       "      <td>False</td>\n",
       "      <td>False</td>\n",
       "      <td>False</td>\n",
       "      <td>False</td>\n",
       "      <td>False</td>\n",
       "      <td>False</td>\n",
       "    </tr>\n",
       "    <tr>\n",
       "      <th>4</th>\n",
       "      <td>10000068</td>\n",
       "      <td>25022803</td>\n",
       "      <td>2160-03-03 23:16:00</td>\n",
       "      <td>2160-03-04 06:26:00</td>\n",
       "      <td>NaN</td>\n",
       "      <td>P39NWO</td>\n",
       "      <td>NaN</td>\n",
       "      <td>English</td>\n",
       "      <td>SINGLE</td>\n",
       "      <td>WHITE</td>\n",
       "      <td>...</td>\n",
       "      <td>False</td>\n",
       "      <td>True</td>\n",
       "      <td>False</td>\n",
       "      <td>False</td>\n",
       "      <td>False</td>\n",
       "      <td>False</td>\n",
       "      <td>False</td>\n",
       "      <td>False</td>\n",
       "      <td>False</td>\n",
       "      <td>False</td>\n",
       "    </tr>\n",
       "  </tbody>\n",
       "</table>\n",
       "<p>5 rows × 45 columns</p>\n",
       "</div>"
      ],
      "text/plain": [
       "   subject_id   hadm_id           admittime           dischtime deathtime  \\\n",
       "0    10000032  22595853 2180-05-06 22:23:00 2180-05-07 17:15:00       NaN   \n",
       "1    10000032  22841357 2180-06-26 18:27:00 2180-06-27 18:49:00       NaN   \n",
       "2    10000032  25742920 2180-08-05 23:44:00 2180-08-07 17:50:00       NaN   \n",
       "3    10000032  29079034 2180-07-23 12:35:00 2180-07-25 17:55:00       NaN   \n",
       "4    10000068  25022803 2160-03-03 23:16:00 2160-03-04 06:26:00       NaN   \n",
       "\n",
       "  admit_provider_id discharge_location language marital_status   race  ...  \\\n",
       "0            P49AFC               HOME  English        WIDOWED  WHITE  ...   \n",
       "1            P784FA               HOME  English        WIDOWED  WHITE  ...   \n",
       "2            P19UTS            HOSPICE  English        WIDOWED  WHITE  ...   \n",
       "3            P06OTX               HOME  English        WIDOWED  WHITE  ...   \n",
       "4            P39NWO                NaN  English         SINGLE  WHITE  ...   \n",
       "\n",
       "  admission_location_CLINIC REFERRAL admission_location_EMERGENCY ROOM  \\\n",
       "0                              False                             False   \n",
       "1                              False                              True   \n",
       "2                              False                              True   \n",
       "3                              False                              True   \n",
       "4                              False                              True   \n",
       "\n",
       "   admission_location_INFORMATION NOT AVAILABLE  \\\n",
       "0                                         False   \n",
       "1                                         False   \n",
       "2                                         False   \n",
       "3                                         False   \n",
       "4                                         False   \n",
       "\n",
       "   admission_location_INTERNAL TRANSFER TO OR FROM PSYCH  \\\n",
       "0                                              False       \n",
       "1                                              False       \n",
       "2                                              False       \n",
       "3                                              False       \n",
       "4                                              False       \n",
       "\n",
       "   admission_location_PACU admission_location_PHYSICIAN REFERRAL  \\\n",
       "0                    False                                 False   \n",
       "1                    False                                 False   \n",
       "2                    False                                 False   \n",
       "3                    False                                 False   \n",
       "4                    False                                 False   \n",
       "\n",
       "  admission_location_PROCEDURE SITE  \\\n",
       "0                             False   \n",
       "1                             False   \n",
       "2                             False   \n",
       "3                             False   \n",
       "4                             False   \n",
       "\n",
       "   admission_location_TRANSFER FROM HOSPITAL  \\\n",
       "0                                       True   \n",
       "1                                      False   \n",
       "2                                      False   \n",
       "3                                      False   \n",
       "4                                      False   \n",
       "\n",
       "   admission_location_TRANSFER FROM SKILLED NURSING FACILITY  \\\n",
       "0                                              False           \n",
       "1                                              False           \n",
       "2                                              False           \n",
       "3                                              False           \n",
       "4                                              False           \n",
       "\n",
       "   admission_location_WALK-IN/SELF REFERRAL  \n",
       "0                                     False  \n",
       "1                                     False  \n",
       "2                                     False  \n",
       "3                                     False  \n",
       "4                                     False  \n",
       "\n",
       "[5 rows x 45 columns]"
      ]
     },
     "execution_count": 15,
     "metadata": {},
     "output_type": "execute_result"
    }
   ],
   "source": [
    "merged_data.head()"
   ]
  },
  {
   "cell_type": "code",
   "execution_count": 16,
   "id": "012c9983-2bfb-45f8-8265-a5ae9b291e24",
   "metadata": {
    "tags": []
   },
   "outputs": [
    {
     "data": {
      "text/plain": [
       "Index(['subject_id', 'hadm_id', 'admittime', 'dischtime', 'deathtime',\n",
       "       'admit_provider_id', 'discharge_location', 'language', 'marital_status',\n",
       "       'race', 'edregtime', 'edouttime', 'hospital_expire_flag', 'anchor_age',\n",
       "       'anchor_year', 'anchor_year_group', 'dod', 'time_in_hospital',\n",
       "       'race_grouped_BLACK/AFRICAN', 'race_grouped_HISPANIC',\n",
       "       'race_grouped_OTHER', 'race_grouped_WHITE', 'gender_1',\n",
       "       'admission_type_DIRECT EMER.', 'admission_type_DIRECT OBSERVATION',\n",
       "       'admission_type_ELECTIVE', 'admission_type_EU OBSERVATION',\n",
       "       'admission_type_EW EMER.', 'admission_type_OBSERVATION ADMIT',\n",
       "       'admission_type_SURGICAL SAME DAY ADMISSION', 'admission_type_URGENT',\n",
       "       'insurance_Medicare', 'insurance_No charge', 'insurance_Other',\n",
       "       'insurance_Private', 'admission_location_CLINIC REFERRAL',\n",
       "       'admission_location_EMERGENCY ROOM',\n",
       "       'admission_location_INFORMATION NOT AVAILABLE',\n",
       "       'admission_location_INTERNAL TRANSFER TO OR FROM PSYCH',\n",
       "       'admission_location_PACU', 'admission_location_PHYSICIAN REFERRAL',\n",
       "       'admission_location_PROCEDURE SITE',\n",
       "       'admission_location_TRANSFER FROM HOSPITAL',\n",
       "       'admission_location_TRANSFER FROM SKILLED NURSING FACILITY',\n",
       "       'admission_location_WALK-IN/SELF REFERRAL'],\n",
       "      dtype='object')"
      ]
     },
     "execution_count": 16,
     "metadata": {},
     "output_type": "execute_result"
    }
   ],
   "source": [
    "merged_data.columns"
   ]
  },
  {
   "cell_type": "code",
   "execution_count": 17,
   "id": "522dd75b-b5cc-47c2-a9db-7d89bf6d5628",
   "metadata": {
    "tags": []
   },
   "outputs": [
    {
     "data": {
      "text/plain": [
       "0    18.866667\n",
       "1    24.366667\n",
       "2    42.100000\n",
       "3    53.333333\n",
       "4     7.166667\n",
       "Name: time_in_hospital, dtype: float64"
      ]
     },
     "execution_count": 17,
     "metadata": {},
     "output_type": "execute_result"
    }
   ],
   "source": [
    "merged_data.time_in_hospital.head()"
   ]
  },
  {
   "cell_type": "code",
   "execution_count": 18,
   "id": "ef1cde00-a342-4636-9889-9c39c58d7e95",
   "metadata": {
    "tags": []
   },
   "outputs": [
    {
     "data": {
      "text/plain": [
       "12373.5"
      ]
     },
     "execution_count": 18,
     "metadata": {},
     "output_type": "execute_result"
    }
   ],
   "source": [
    "merged_data.time_in_hospital.max()"
   ]
  },
  {
   "cell_type": "code",
   "execution_count": 19,
   "id": "a946a839-ebe2-44a2-8554-12f493939175",
   "metadata": {
    "tags": []
   },
   "outputs": [
    {
     "data": {
      "text/plain": [
       "3.0"
      ]
     },
     "execution_count": 19,
     "metadata": {},
     "output_type": "execute_result"
    }
   ],
   "source": [
    "merged_data.time_in_hospital.min()"
   ]
  },
  {
   "cell_type": "code",
   "execution_count": 20,
   "id": "29061316-8e3b-4b5c-bcfc-1cdc51fa92bc",
   "metadata": {
    "tags": []
   },
   "outputs": [],
   "source": [
    "#Selecting columns for x from merged data\n",
    "selected_cols = ['anchor_age', 'insurance_Medicare', 'insurance_No charge', 'insurance_Other','gender_1','race_grouped_BLACK/AFRICAN',\n",
    "       'race_grouped_HISPANIC', 'race_grouped_OTHER', 'race_grouped_WHITE',\n",
    "       'insurance_Private', 'admission_location_EMERGENCY ROOM',\n",
    "       'admission_location_INFORMATION NOT AVAILABLE',\n",
    "       'admission_location_INTERNAL TRANSFER TO OR FROM PSYCH',\n",
    "       'admission_location_PACU', 'admission_location_PHYSICIAN REFERRAL',\n",
    "       'admission_location_PROCEDURE SITE',\n",
    "       'admission_location_TRANSFER FROM HOSPITAL',\n",
    "       'admission_location_TRANSFER FROM SKILLED NURSING FACILITY',\n",
    "       'admission_location_WALK-IN/SELF REFERRAL']"
   ]
  },
  {
   "cell_type": "code",
   "execution_count": 21,
   "id": "974091fa-1474-4c41-9e2f-551e16764e70",
   "metadata": {
    "tags": []
   },
   "outputs": [],
   "source": [
    "# Define features and target\n",
    "X = merged_data[selected_cols]\n",
    "y = merged_data['time_in_hospital']"
   ]
  },
  {
   "cell_type": "code",
   "execution_count": 22,
   "id": "bef115f5-13b0-4286-b443-a21be42c87da",
   "metadata": {
    "tags": []
   },
   "outputs": [],
   "source": [
    "# Split data into train, validation, and test sets\n",
    "X_train, X_temp, y_train, y_temp = train_test_split(X, y, test_size=0.3, random_state=42)\n",
    "X_val, X_test, y_val, y_test = train_test_split(X_temp, y_temp, test_size=0.5, random_state=42)\n"
   ]
  },
  {
   "cell_type": "markdown",
   "id": "34d4b995-491a-4062-970d-684acc5768da",
   "metadata": {},
   "source": [
    "## Linear Regression"
   ]
  },
  {
   "cell_type": "code",
   "execution_count": 23,
   "id": "8c32b5e2-64eb-4f4e-aeae-671c5aaf2dac",
   "metadata": {
    "tags": []
   },
   "outputs": [
    {
     "name": "stdout",
     "output_type": "stream",
     "text": [
      "Linear Regression RMSE: 166.79281728071933\n"
     ]
    }
   ],
   "source": [
    "# Linear Regression\n",
    "lr = LinearRegression()\n",
    "lr.fit(X_train, y_train)\n",
    "lr_pred = lr.predict(X_test)\n",
    "print(\"Linear Regression RMSE:\", np.sqrt(mean_squared_error(y_test, lr_pred)))\n"
   ]
  },
  {
   "cell_type": "markdown",
   "id": "27cfafc6-7e37-4f66-8457-3b380ac99ad8",
   "metadata": {},
   "source": [
    "## Random Forest Regression"
   ]
  },
  {
   "cell_type": "code",
   "execution_count": 24,
   "id": "b3525101-8818-4c85-97b6-68e6c26569b2",
   "metadata": {
    "tags": []
   },
   "outputs": [
    {
     "name": "stdout",
     "output_type": "stream",
     "text": [
      "Random Forest RMSE: 169.8440992471212\n"
     ]
    }
   ],
   "source": [
    "# Random Forest\n",
    "rf = RandomForestRegressor(n_estimators=100, random_state=42)\n",
    "rf.fit(X_train, y_train)\n",
    "rf_pred = rf.predict(X_test)\n",
    "print(\"Random Forest RMSE:\", np.sqrt(mean_squared_error(y_test, rf_pred)))\n"
   ]
  },
  {
   "cell_type": "code",
   "execution_count": 25,
   "id": "f6f6000c-cad0-4262-89cc-9009981d0e1c",
   "metadata": {
    "tags": []
   },
   "outputs": [
    {
     "name": "stdout",
     "output_type": "stream",
     "text": [
      "\n",
      "Top Features by Importance in Random Forest:\n",
      "                                              Feature  Importance\n",
      "0                                          anchor_age    0.390587\n",
      "16          admission_location_TRANSFER FROM HOSPITAL    0.139551\n",
      "12  admission_location_INTERNAL TRANSFER TO OR FRO...    0.078131\n",
      "4                                            gender_1    0.075860\n",
      "1                                  insurance_Medicare    0.047184\n",
      "5                          race_grouped_BLACK/AFRICAN    0.038537\n",
      "8                                  race_grouped_WHITE    0.036236\n",
      "9                                   insurance_Private    0.034867\n",
      "7                                  race_grouped_OTHER    0.030867\n",
      "6                               race_grouped_HISPANIC    0.029382\n"
     ]
    },
    {
     "data": {
      "image/png": "[encoded data removed]",
      "text/plain": [
       "<Figure size 1000x600 with 1 Axes>"
      ]
     },
     "metadata": {},
     "output_type": "display_data"
    }
   ],
   "source": [
    "# Feature importances from Random Forest\n",
    "feature_importances = rf.feature_importances_\n",
    "features = X.columns\n",
    "importance_df = pd.DataFrame({'Feature': features, 'Importance': feature_importances})\n",
    "importance_df = importance_df.sort_values(by='Importance', ascending=False)\n",
    "\n",
    "print(\"\\nTop Features by Importance in Random Forest:\")\n",
    "print(importance_df.head(10))\n",
    "\n",
    "# Plot Feature Importances\n",
    "plt.figure(figsize=(10, 6))\n",
    "sns.barplot(x='Importance', y='Feature', data=importance_df.head(10))\n",
    "plt.title('Top 10 Features by Importance in Random Forest')\n",
    "plt.grid()\n",
    "plt.show()\n",
    "\n"
   ]
  },
  {
   "cell_type": "code",
   "execution_count": 26,
   "id": "b6936f00-73f7-419a-b58d-1139cd7de861",
   "metadata": {
    "tags": []
   },
   "outputs": [
    {
     "data": {
      "image/png": "[encoded data removed]",
      "text/plain": [
       "<Figure size 1000x600 with 1 Axes>"
      ]
     },
     "metadata": {},
     "output_type": "display_data"
    },
    {
     "data": {
      "image/png": "[encoded data removed]",
      "text/plain": [
       "<Figure size 1000x600 with 1 Axes>"
      ]
     },
     "metadata": {},
     "output_type": "display_data"
    }
   ],
   "source": [
    "import matplotlib.pyplot as plt\n",
    "\n",
    "# Compare predictions visually\n",
    "def plot_predictions(y_true, y_pred, model_name):\n",
    "    plt.figure(figsize=(10, 6))\n",
    "    plt.scatter(y_true, y_pred, alpha=0.3)\n",
    "    plt.plot([y_true.min(), y_true.max()], [y_true.min(), y_true.max()], 'r--', lw=2)\n",
    "    plt.title(f'{model_name} Predictions vs Actuals')\n",
    "    plt.xlabel('Actual Hospital Stay Duration (hours)')\n",
    "    plt.ylabel('Predicted Hospital Stay Duration (hours)')\n",
    "    plt.grid()\n",
    "    plt.show()\n",
    "\n",
    "# Plot Linear Regression Predictions\n",
    "plot_predictions(y_test, lr_pred, \"Linear Regression\")\n",
    "\n",
    "# Plot Random Forest Predictions\n",
    "plot_predictions(y_test, rf_pred, \"Random Forest\")\n",
    "    "
   ]
  },
  {
   "cell_type": "markdown",
   "id": "eaa30269-f183-420b-bfad-edce84b9a2e1",
   "metadata": {},
   "source": [
    "## LightGBM Classifier"
   ]
  },
  {
   "cell_type": "code",
   "execution_count": 47,
   "id": "88b09389-a4c0-4c94-8557-68906fee9d44",
   "metadata": {
    "tags": []
   },
   "outputs": [
    {
     "name": "stdout",
     "output_type": "stream",
     "text": [
      "[LightGBM] [Warning] Found whitespace in feature_names, replace with underlines\n",
      "[LightGBM] [Info] Auto-choosing row-wise multi-threading, the overhead of testing was 0.031993 seconds.\n",
      "You can set `force_row_wise=true` to remove the overhead.\n",
      "And if memory is not enough, you can set `force_col_wise=true`.\n",
      "[LightGBM] [Info] Total Bins 110\n",
      "[LightGBM] [Info] Number of data points in the train set: 377556, number of used features: 19\n",
      "[LightGBM] [Warning] Found whitespace in feature_names, replace with underlines\n",
      "[LightGBM] [Info] Start training from score 115.638668\n",
      "[1]\tvalid_0's rmse: 171.35\tvalid_0's l2: 29360.7\n",
      "Training until validation scores don't improve for 10 rounds\n",
      "[2]\tvalid_0's rmse: 170.602\tvalid_0's l2: 29105.2\n",
      "[3]\tvalid_0's rmse: 169.982\tvalid_0's l2: 28894\n",
      "[4]\tvalid_0's rmse: 169.481\tvalid_0's l2: 28723.9\n",
      "[5]\tvalid_0's rmse: 169.062\tvalid_0's l2: 28581.8\n",
      "[6]\tvalid_0's rmse: 168.734\tvalid_0's l2: 28471.2\n",
      "[7]\tvalid_0's rmse: 168.446\tvalid_0's l2: 28374.1\n",
      "[8]\tvalid_0's rmse: 168.203\tvalid_0's l2: 28292.2\n",
      "[9]\tvalid_0's rmse: 168.018\tvalid_0's l2: 28230.1\n",
      "[10]\tvalid_0's rmse: 167.858\tvalid_0's l2: 28176.2\n",
      "[11]\tvalid_0's rmse: 167.724\tvalid_0's l2: 28131.2\n",
      "[12]\tvalid_0's rmse: 167.619\tvalid_0's l2: 28096.2\n",
      "[13]\tvalid_0's rmse: 167.529\tvalid_0's l2: 28066\n",
      "[14]\tvalid_0's rmse: 167.445\tvalid_0's l2: 28037.9\n",
      "[15]\tvalid_0's rmse: 167.378\tvalid_0's l2: 28015.4\n",
      "[16]\tvalid_0's rmse: 167.317\tvalid_0's l2: 27994.9\n",
      "[17]\tvalid_0's rmse: 167.279\tvalid_0's l2: 27982.4\n",
      "[18]\tvalid_0's rmse: 167.234\tvalid_0's l2: 27967.2\n",
      "[19]\tvalid_0's rmse: 167.203\tvalid_0's l2: 27957\n",
      "[20]\tvalid_0's rmse: 167.172\tvalid_0's l2: 27946.6\n",
      "[21]\tvalid_0's rmse: 167.144\tvalid_0's l2: 27937\n",
      "[22]\tvalid_0's rmse: 167.122\tvalid_0's l2: 27929.7\n",
      "[23]\tvalid_0's rmse: 167.106\tvalid_0's l2: 27924.4\n",
      "[24]\tvalid_0's rmse: 167.089\tvalid_0's l2: 27918.7\n",
      "[25]\tvalid_0's rmse: 167.08\tvalid_0's l2: 27915.6\n",
      "[26]\tvalid_0's rmse: 167.065\tvalid_0's l2: 27910.7\n",
      "[27]\tvalid_0's rmse: 167.051\tvalid_0's l2: 27905.9\n",
      "[28]\tvalid_0's rmse: 167.05\tvalid_0's l2: 27905.7\n",
      "[29]\tvalid_0's rmse: 167.047\tvalid_0's l2: 27904.6\n",
      "[30]\tvalid_0's rmse: 167.035\tvalid_0's l2: 27900.5\n",
      "[31]\tvalid_0's rmse: 167.029\tvalid_0's l2: 27898.8\n",
      "[32]\tvalid_0's rmse: 167.017\tvalid_0's l2: 27894.7\n",
      "[33]\tvalid_0's rmse: 167.011\tvalid_0's l2: 27892.7\n",
      "[34]\tvalid_0's rmse: 166.999\tvalid_0's l2: 27888.6\n",
      "[35]\tvalid_0's rmse: 166.992\tvalid_0's l2: 27886.2\n",
      "[36]\tvalid_0's rmse: 166.989\tvalid_0's l2: 27885.4\n",
      "[37]\tvalid_0's rmse: 166.982\tvalid_0's l2: 27882.9\n",
      "[38]\tvalid_0's rmse: 166.976\tvalid_0's l2: 27881.1\n",
      "[39]\tvalid_0's rmse: 166.98\tvalid_0's l2: 27882.2\n",
      "[40]\tvalid_0's rmse: 166.977\tvalid_0's l2: 27881.5\n",
      "[41]\tvalid_0's rmse: 166.976\tvalid_0's l2: 27880.9\n",
      "[42]\tvalid_0's rmse: 166.969\tvalid_0's l2: 27878.6\n",
      "[43]\tvalid_0's rmse: 166.968\tvalid_0's l2: 27878.2\n",
      "[44]\tvalid_0's rmse: 166.966\tvalid_0's l2: 27877.8\n",
      "[45]\tvalid_0's rmse: 166.966\tvalid_0's l2: 27877.6\n",
      "[46]\tvalid_0's rmse: 166.964\tvalid_0's l2: 27876.9\n",
      "[47]\tvalid_0's rmse: 166.964\tvalid_0's l2: 27877.1\n",
      "[48]\tvalid_0's rmse: 166.96\tvalid_0's l2: 27875.7\n",
      "[49]\tvalid_0's rmse: 166.961\tvalid_0's l2: 27876\n",
      "[50]\tvalid_0's rmse: 166.958\tvalid_0's l2: 27875.1\n",
      "[51]\tvalid_0's rmse: 166.961\tvalid_0's l2: 27875.9\n",
      "[52]\tvalid_0's rmse: 166.96\tvalid_0's l2: 27875.6\n",
      "[53]\tvalid_0's rmse: 166.959\tvalid_0's l2: 27875.3\n",
      "[54]\tvalid_0's rmse: 166.954\tvalid_0's l2: 27873.7\n",
      "[55]\tvalid_0's rmse: 166.953\tvalid_0's l2: 27873.4\n",
      "[56]\tvalid_0's rmse: 166.953\tvalid_0's l2: 27873.2\n",
      "[57]\tvalid_0's rmse: 166.954\tvalid_0's l2: 27873.7\n",
      "[58]\tvalid_0's rmse: 166.951\tvalid_0's l2: 27872.5\n",
      "[59]\tvalid_0's rmse: 166.951\tvalid_0's l2: 27872.6\n",
      "[60]\tvalid_0's rmse: 166.953\tvalid_0's l2: 27873.2\n",
      "[61]\tvalid_0's rmse: 166.951\tvalid_0's l2: 27872.7\n",
      "[62]\tvalid_0's rmse: 166.954\tvalid_0's l2: 27873.6\n",
      "[63]\tvalid_0's rmse: 166.955\tvalid_0's l2: 27874.1\n",
      "[64]\tvalid_0's rmse: 166.958\tvalid_0's l2: 27874.9\n",
      "[65]\tvalid_0's rmse: 166.955\tvalid_0's l2: 27873.9\n",
      "[66]\tvalid_0's rmse: 166.955\tvalid_0's l2: 27874\n",
      "[67]\tvalid_0's rmse: 166.956\tvalid_0's l2: 27874.3\n",
      "[68]\tvalid_0's rmse: 166.958\tvalid_0's l2: 27874.9\n",
      "Early stopping, best iteration is:\n",
      "[58]\tvalid_0's rmse: 166.951\tvalid_0's l2: 27872.5\n",
      "LightGBM RMSE: 166.10652711444334\n"
     ]
    }
   ],
   "source": [
    "import lightgbm\n",
    "from lightgbm import LGBMRegressor\n",
    "from sklearn.metrics import mean_squared_error\n",
    "\n",
    "# Initialize LGBMRegressor\n",
    "lgbm = LGBMRegressor(\n",
    "    objective='regression',\n",
    "    boosting_type='gbdt',\n",
    "    n_estimators=1000,  # Set high to allow early stopping\n",
    "    learning_rate=0.1,\n",
    "    random_state=42\n",
    ")\n",
    "\n",
    "# Fit with early stopping\n",
    "lgbm.fit(\n",
    "    X_train,\n",
    "    y_train,\n",
    "    eval_set=[(X_val, y_val)],\n",
    "    eval_metric='rmse',           # Use RMSE as the evaluation metric\n",
    "    callbacks=[\n",
    "        lightgbm.early_stopping(stopping_rounds=10),  # Enable early stopping\n",
    "        lightgbm.log_evaluation(1)                   # Log evaluation metrics\n",
    "    ]\n",
    ")\n",
    "\n",
    "# Predictions\n",
    "lgbm_pred = lgbm.predict(X_test)\n",
    "\n",
    "# Evaluate Performance\n",
    "rmse = np.sqrt(mean_squared_error(y_test, lgbm_pred))\n",
    "print(\"LightGBM RMSE:\", rmse)"
   ]
  },
  {
   "cell_type": "markdown",
   "id": "53e7d158-2ff1-441c-b4c2-6498e04fc20f",
   "metadata": {},
   "source": [
    "## Neural Network"
   ]
  },
  {
   "cell_type": "code",
   "execution_count": 31,
   "id": "f0cb8431-7eb2-46e1-8fe0-19cd4f4ad0d4",
   "metadata": {
    "tags": []
   },
   "outputs": [],
   "source": [
    "# Neural Network with PyTorch\n",
    "class NeuralNetwork(nn.Module):\n",
    "    def __init__(self, input_size):\n",
    "        super(NeuralNetwork, self).__init__()\n",
    "        self.fc1 = nn.Linear(input_size, 16)\n",
    "        self.dropout1 = nn.Dropout(0.3)\n",
    "        self.fc2 = nn.Linear(16, 4)\n",
    "        self.dropout2 = nn.Dropout(0.3)\n",
    "        self.output = nn.Linear(4, 1)\n",
    "\n",
    "    def forward(self, x):\n",
    "        x = torch.relu(self.fc1(x))\n",
    "        x = self.dropout1(x)\n",
    "        x = torch.relu(self.fc2(x))\n",
    "        x = self.dropout2(x)\n",
    "        x = torch.sigmoid(self.output(x))\n",
    "        return x"
   ]
  },
  {
   "cell_type": "code",
   "execution_count": 34,
   "id": "8ffe63b1-6b94-4826-a22f-c181eb92b08c",
   "metadata": {
    "tags": []
   },
   "outputs": [
    {
     "name": "stdout",
     "output_type": "stream",
     "text": [
      "anchor_age                                                   int64\n",
      "insurance_Medicare                                            bool\n",
      "insurance_No charge                                           bool\n",
      "insurance_Other                                               bool\n",
      "gender_1                                                      bool\n",
      "race_grouped_BLACK/AFRICAN                                    bool\n",
      "race_grouped_HISPANIC                                         bool\n",
      "race_grouped_OTHER                                            bool\n",
      "race_grouped_WHITE                                            bool\n",
      "insurance_Private                                             bool\n",
      "admission_location_EMERGENCY ROOM                             bool\n",
      "admission_location_INFORMATION NOT AVAILABLE                  bool\n",
      "admission_location_INTERNAL TRANSFER TO OR FROM PSYCH         bool\n",
      "admission_location_PACU                                       bool\n",
      "admission_location_PHYSICIAN REFERRAL                         bool\n",
      "admission_location_PROCEDURE SITE                             bool\n",
      "admission_location_TRANSFER FROM HOSPITAL                     bool\n",
      "admission_location_TRANSFER FROM SKILLED NURSING FACILITY     bool\n",
      "admission_location_WALK-IN/SELF REFERRAL                      bool\n",
      "dtype: object\n"
     ]
    }
   ],
   "source": [
    "print(X_train.dtypes)"
   ]
  },
  {
   "cell_type": "code",
   "execution_count": 37,
   "id": "4948f68a-4aa9-459c-9991-a32c0d1fa1e3",
   "metadata": {
    "tags": []
   },
   "outputs": [],
   "source": [
    "X_train = X_train.apply(lambda x: x.astype(int) if x.dtype == 'bool' else x)\n",
    "\n",
    "#X_val = X_val.apply(lambda x: x.astype(int) if x.dtype == 'bool' else x)\n",
    "#X_test = X_test.apply(lambda x: x.astype(int) if x.dtype == 'bool' else x)\n"
   ]
  },
  {
   "cell_type": "code",
   "execution_count": 38,
   "id": "61ef45c5-3bc1-409c-93d4-5958b50fa012",
   "metadata": {
    "tags": []
   },
   "outputs": [
    {
     "name": "stdout",
     "output_type": "stream",
     "text": [
      "anchor_age                                                   int64\n",
      "insurance_Medicare                                           int64\n",
      "insurance_No charge                                          int64\n",
      "insurance_Other                                              int64\n",
      "gender_1                                                     int64\n",
      "race_grouped_BLACK/AFRICAN                                   int64\n",
      "race_grouped_HISPANIC                                        int64\n",
      "race_grouped_OTHER                                           int64\n",
      "race_grouped_WHITE                                           int64\n",
      "insurance_Private                                            int64\n",
      "admission_location_EMERGENCY ROOM                            int64\n",
      "admission_location_INFORMATION NOT AVAILABLE                 int64\n",
      "admission_location_INTERNAL TRANSFER TO OR FROM PSYCH        int64\n",
      "admission_location_PACU                                      int64\n",
      "admission_location_PHYSICIAN REFERRAL                        int64\n",
      "admission_location_PROCEDURE SITE                            int64\n",
      "admission_location_TRANSFER FROM HOSPITAL                    int64\n",
      "admission_location_TRANSFER FROM SKILLED NURSING FACILITY    int64\n",
      "admission_location_WALK-IN/SELF REFERRAL                     int64\n",
      "dtype: object\n"
     ]
    }
   ],
   "source": [
    "print(X_train.dtypes)"
   ]
  },
  {
   "cell_type": "code",
   "execution_count": 41,
   "id": "d0e2e3a8-92ed-4e73-a54f-0b5368b47519",
   "metadata": {
    "tags": []
   },
   "outputs": [
    {
     "name": "stdout",
     "output_type": "stream",
     "text": [
      "anchor_age                                                   int64\n",
      "insurance_Medicare                                           int64\n",
      "insurance_No charge                                          int64\n",
      "insurance_Other                                              int64\n",
      "gender_1                                                     int64\n",
      "race_grouped_BLACK/AFRICAN                                   int64\n",
      "race_grouped_HISPANIC                                        int64\n",
      "race_grouped_OTHER                                           int64\n",
      "race_grouped_WHITE                                           int64\n",
      "insurance_Private                                            int64\n",
      "admission_location_EMERGENCY ROOM                            int64\n",
      "admission_location_INFORMATION NOT AVAILABLE                 int64\n",
      "admission_location_INTERNAL TRANSFER TO OR FROM PSYCH        int64\n",
      "admission_location_PACU                                      int64\n",
      "admission_location_PHYSICIAN REFERRAL                        int64\n",
      "admission_location_PROCEDURE SITE                            int64\n",
      "admission_location_TRANSFER FROM HOSPITAL                    int64\n",
      "admission_location_TRANSFER FROM SKILLED NURSING FACILITY    int64\n",
      "admission_location_WALK-IN/SELF REFERRAL                     int64\n",
      "dtype: object\n"
     ]
    }
   ],
   "source": [
    "print(X_train.dtypes)"
   ]
  },
  {
   "cell_type": "code",
   "execution_count": 42,
   "id": "7b8aa2af-9296-4868-84ea-722454af8005",
   "metadata": {
    "tags": []
   },
   "outputs": [],
   "source": [
    "X_val = X_val.apply(lambda x: x.astype(int) if x.dtype == 'bool' else x)\n",
    "X_test = X_test.apply(lambda x: x.astype(int) if x.dtype == 'bool' else x)"
   ]
  },
  {
   "cell_type": "code",
   "execution_count": 43,
   "id": "c7c231fb-d5bf-4baa-8c39-6e47ddd04898",
   "metadata": {
    "tags": []
   },
   "outputs": [],
   "source": [
    "# Prepare data for PyTorch\n",
    "X_train_tensor = torch.tensor(X_train.values, dtype=torch.float32)\n",
    "y_train_tensor = torch.tensor(y_train.values, dtype=torch.float32).view(-1, 1)\n",
    "X_val_tensor = torch.tensor(X_val.values, dtype=torch.float32)\n",
    "y_val_tensor = torch.tensor(y_val.values, dtype=torch.float32).view(-1, 1)\n",
    "X_test_tensor = torch.tensor(X_test.values, dtype=torch.float32)\n",
    "y_test_tensor = torch.tensor(y_test.values, dtype=torch.float32).view(-1, 1)\n"
   ]
  },
  {
   "cell_type": "code",
   "execution_count": 44,
   "id": "24642927-d101-4eff-bbc4-2b1a24f3a913",
   "metadata": {
    "tags": []
   },
   "outputs": [],
   "source": [
    "# Initialize model, loss function, and optimizer\n",
    "input_size = X_train.shape[1]\n",
    "model = NeuralNetwork(input_size)\n",
    "criterion = nn.MSELoss()\n",
    "optimizer = optim.Adam(model.parameters(), lr=0.001)\n"
   ]
  },
  {
   "cell_type": "code",
   "execution_count": 45,
   "id": "42a40019-9c68-4937-8619-6fd656db02af",
   "metadata": {
    "tags": []
   },
   "outputs": [
    {
     "name": "stdout",
     "output_type": "stream",
     "text": [
      "Epoch 1/20, Validation Loss: 42950.8672\n",
      "Epoch 2/20, Validation Loss: 42950.8672\n",
      "Epoch 3/20, Validation Loss: 42950.8672\n",
      "Epoch 4/20, Validation Loss: 42950.8672\n",
      "Epoch 5/20, Validation Loss: 42950.8672\n",
      "Epoch 6/20, Validation Loss: 42950.8672\n",
      "Epoch 7/20, Validation Loss: 42950.8672\n",
      "Epoch 8/20, Validation Loss: 42950.8672\n",
      "Epoch 9/20, Validation Loss: 42950.8672\n",
      "Epoch 10/20, Validation Loss: 42950.8672\n",
      "Epoch 11/20, Validation Loss: 42950.8672\n",
      "Epoch 12/20, Validation Loss: 42950.8672\n",
      "Epoch 13/20, Validation Loss: 42950.8672\n",
      "Epoch 14/20, Validation Loss: 42950.8672\n",
      "Epoch 15/20, Validation Loss: 42950.8672\n",
      "Epoch 16/20, Validation Loss: 42950.8672\n",
      "Epoch 17/20, Validation Loss: 42950.8672\n",
      "Epoch 18/20, Validation Loss: 42950.8672\n",
      "Epoch 19/20, Validation Loss: 42950.8672\n",
      "Epoch 20/20, Validation Loss: 42950.8672\n",
      "Neural Network RMSE: 205.9433848161464\n"
     ]
    }
   ],
   "source": [
    "# Training loop\n",
    "epochs = 20\n",
    "batch_size = 32\n",
    "for epoch in range(epochs):\n",
    "    model.train()\n",
    "    permutation = torch.randperm(X_train_tensor.size(0))\n",
    "    for i in range(0, X_train_tensor.size(0), batch_size):\n",
    "        indices = permutation[i:i + batch_size]\n",
    "        batch_x, batch_y = X_train_tensor[indices], y_train_tensor[indices]\n",
    "\n",
    "        optimizer.zero_grad()\n",
    "        outputs = model(batch_x)\n",
    "        loss = criterion(outputs, batch_y)\n",
    "        loss.backward()\n",
    "        optimizer.step()\n",
    "\n",
    "    # Validation\n",
    "    model.eval()\n",
    "    with torch.no_grad():\n",
    "        val_outputs = model(X_val_tensor)\n",
    "        val_loss = criterion(val_outputs, y_val_tensor)\n",
    "    print(f\"Epoch {epoch + 1}/{epochs}, Validation Loss: {val_loss.item():.4f}\")\n",
    "\n",
    "# Testing\n",
    "model.eval()\n",
    "with torch.no_grad():\n",
    "    test_outputs = model(X_test_tensor).numpy().flatten()\n",
    "print(\"Neural Network RMSE:\", np.sqrt(mean_squared_error(y_test, test_outputs)))\n"
   ]
  },
  {
   "cell_type": "code",
   "execution_count": null,
   "id": "6080c835-10da-4ef7-b744-f1857b0a50b2",
   "metadata": {},
   "outputs": [],
   "source": []
  }
 ],
 "metadata": {
  "kernelspec": {
   "display_name": "Python 3.8 - Pytorch and Tensorflow",
   "language": "python",
   "name": "python38-azureml-pt-tf"
  },
  "language_info": {
   "codemirror_mode": {
    "name": "ipython",
    "version": 3
   },
   "file_extension": ".py",
   "mimetype": "text/x-python",
   "name": "python",
   "nbconvert_exporter": "python",
   "pygments_lexer": "ipython3",
   "version": "3.10.14"
  }
 },
 "nbformat": 4,
 "nbformat_minor": 5
}
